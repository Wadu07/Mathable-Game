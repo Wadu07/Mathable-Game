{
 "cells": [
  {
   "metadata": {
    "ExecuteTime": {
     "end_time": "2024-06-25T01:11:55.776504Z",
     "start_time": "2024-06-25T01:11:55.772934Z"
    }
   },
   "cell_type": "code",
   "source": [
    "import torch\n",
    "import cv2\n",
    "import numpy as np\n",
    "from matplotlib import pyplot as plt\n",
    "from ultralytics import YOLO\n",
    "import os"
   ],
   "id": "1b9de931376e1548",
   "outputs": [],
   "execution_count": 3
  },
  {
   "metadata": {
    "ExecuteTime": {
     "end_time": "2024-06-25T00:23:57.568054Z",
     "start_time": "2024-06-25T00:23:52.391170Z"
    }
   },
   "cell_type": "code",
   "source": [
    "\n",
    "model = YOLO(\"yolov8x\")\n",
    "\n",
    "\n",
    "def get_last_frame(video_path):\n",
    "    cap = cv2.VideoCapture(video_path)\n",
    "    total_frames = int(cap.get(cv2.CAP_PROP_FRAME_COUNT))\n",
    "    cap.set(cv2.CAP_PROP_POS_FRAMES, total_frames - 1)\n",
    "    ret, frame = cap.read()\n",
    "    cap.release()\n",
    "    if ret:\n",
    "        return frame\n",
    "    else:\n",
    "        raise ValueError(\"Could not read the last frame.\")\n",
    "   \n",
    "\n",
    "# we define the region on intereset representing the lane where the cars are \n",
    "region_of_interest = [\n",
    "    [(402, 216), (502,218),(751, 441), (655, 475)]]\n",
    "\n",
    "# here we precess the videos and write the results in a txt file\n",
    "def process_videos(video_directory, output_directory):\n",
    "    if not os.path.exists(output_directory):\n",
    "        os.makedirs(output_directory)\n",
    "        \n",
    "    for filename in os.listdir(video_directory):\n",
    "        if filename.endswith('.mp4'):\n",
    "            video_path = os.path.join(video_directory, filename)\n",
    "            try:\n",
    "                last_frame = get_last_frame(video_path)\n",
    "                #perform the inference\n",
    "                results = model.predict(last_frame, classes=[2, 7], verbose=False,conf = 0.1)\n",
    "                detections = results[0].boxes.xyxy.cpu().numpy() #tensori\n",
    "                classes = results[0].boxes.cls.cpu().numpy()  # Classes\n",
    "                \n",
    "                #get the centers of the detected cars\n",
    "                centers = []\n",
    "                for detection, cls in zip(detections, classes):\n",
    "                    x_min, y_min, x_max, y_max = detection[:4] #get the coordinates of the bounding box\n",
    "                    center_x = int((x_min + x_max) / 2) \n",
    "                    center_y = int((y_min + y_max) / 2)\n",
    "                    centers.append((center_x, center_y))\n",
    "                \n",
    "                #check if the centers are in the region of interest\n",
    "                cars_in_roi = 0 \n",
    "                for (center_x,center_y) in centers:\n",
    "                    point = (center_x,center_y)\n",
    "                    for car in region_of_interest:\n",
    "                        car_arr = np.array(car,np.int32).reshape((-1,1,2))\n",
    "                        if cv2.pointPolygonTest(car_arr,point,False) >= 0:\n",
    "                            cars_in_roi += 1\n",
    "                            break\n",
    "                \n",
    "                #write the results in a txt file\n",
    "                output_filename = os.path.splitext(filename)[0] + '.txt'\n",
    "                output_path = os.path.join(output_directory, output_filename)\n",
    "                with open(output_path, 'w') as f:\n",
    "                    f.write(str(cars_in_roi))\n",
    "                print(f'Processed {filename}: {cars_in_roi} cars in the region of interest.')\n",
    "                \n",
    "            except Exception as e:\n",
    "                print(f'Error processing {filename}: {e}')\n",
    "                \n",
    "# Function to read the ground truth data\n",
    "def read_ground_truth(ground_truth_directory, video_filename):\n",
    "    ground_truth_filename = os.path.splitext(video_filename)[0] + '_gt.txt'\n",
    "    ground_truth_path = os.path.join(ground_truth_directory, ground_truth_filename)\n",
    "    with open(ground_truth_path, 'r') as f:\n",
    "        lines = f.readlines()\n",
    "    ground_truth_count = int(lines[0].strip())\n",
    "    return ground_truth_count\n",
    "\n",
    "\n",
    "# Function to compare predictions with ground truth\n",
    "def compare_with_ground_truth(predictions_directory, ground_truth_directory):\n",
    "    total_files = 0\n",
    "    correct_predictions = 0\n",
    "    \n",
    "    for filename in os.listdir(predictions_directory):\n",
    "        if filename.endswith('.txt'):\n",
    "            total_files += 1\n",
    "            \n",
    "            prediction_path = os.path.join(predictions_directory, filename)\n",
    "            with open(prediction_path, 'r') as f:\n",
    "                lines = f.readlines()\n",
    "            predicted_count = int(lines[0].strip())\n",
    "            \n",
    "            ground_truth_count = read_ground_truth(ground_truth_directory, filename)\n",
    "            \n",
    "            if predicted_count == ground_truth_count:\n",
    "                correct_predictions += 1\n",
    "            else:\n",
    "                print(f'{filename}: Prediction ({predicted_count}) does not match ground truth ({ground_truth_count})')\n",
    "    \n",
    "    accuracy = correct_predictions / total_files if total_files > 0 else 0\n",
    "    print(f'Accuracy: {accuracy:.2%}')\n",
    "\n",
    "               \n",
    "video_directory = '/home/radu/Facultate/Computer_Vision/Project2/train/Task4/'\n",
    "output_directory = '/home/radu/Facultate/Computer_Vision/Project2/train/Task4/output/'\n",
    "ground_truth_directory = '/home/radu/Facultate/Computer_Vision/Project2/train/Task4/ground-truth/'\n",
    "process_videos(video_directory, output_directory)\n",
    "\n",
    "# Compare predictions with ground truth\n",
    "compare_with_ground_truth(output_directory, ground_truth_directory)"
   ],
   "id": "4dd77e8a7e14e21f",
   "outputs": [
    {
     "name": "stderr",
     "output_type": "stream",
     "text": [
      "/home/radu/miniforge3/envs/pachetcv/lib/python3.11/site-packages/torch/nn/modules/conv.py:456: UserWarning: Applied workaround for CuDNN issue, install nvrtc.so (Triggered internally at ../aten/src/ATen/native/cudnn/Conv_v8.cpp:84.)\n",
      "  return F.conv2d(input, weight, bias, self.stride,\n"
     ]
    },
    {
     "name": "stdout",
     "output_type": "stream",
     "text": [
      "Processed 15.mp4: 1 cars in the region of interest.\n",
      "Processed 03.mp4: 0 cars in the region of interest.\n",
      "Processed 01.mp4: 1 cars in the region of interest.\n",
      "Processed 06.mp4: 1 cars in the region of interest.\n",
      "Processed 12.mp4: 1 cars in the region of interest.\n",
      "Processed 13.mp4: 1 cars in the region of interest.\n",
      "Processed 08.mp4: 4 cars in the region of interest.\n",
      "Processed 10.mp4: 1 cars in the region of interest.\n",
      "Processed 05.mp4: 2 cars in the region of interest.\n",
      "Processed 02.mp4: 6 cars in the region of interest.\n",
      "Processed 14.mp4: 1 cars in the region of interest.\n",
      "Processed 09.mp4: 1 cars in the region of interest.\n",
      "Processed 11.mp4: 2 cars in the region of interest.\n",
      "Processed 07.mp4: 3 cars in the region of interest.\n",
      "Processed 04.mp4: 1 cars in the region of interest.\n",
      "08.txt: Prediction (4) does not match ground truth (5)\n",
      "02.txt: Prediction (6) does not match ground truth (4)\n",
      "Accuracy: 86.67%\n"
     ]
    }
   ],
   "execution_count": 2
  },
  {
   "metadata": {},
   "cell_type": "code",
   "outputs": [],
   "execution_count": null,
   "source": "",
   "id": "a06ec47b688c2e2e"
  }
 ],
 "metadata": {
  "kernelspec": {
   "display_name": "Python 3",
   "language": "python",
   "name": "python3"
  },
  "language_info": {
   "codemirror_mode": {
    "name": "ipython",
    "version": 2
   },
   "file_extension": ".py",
   "mimetype": "text/x-python",
   "name": "python",
   "nbconvert_exporter": "python",
   "pygments_lexer": "ipython2",
   "version": "2.7.6"
  }
 },
 "nbformat": 4,
 "nbformat_minor": 5
}
